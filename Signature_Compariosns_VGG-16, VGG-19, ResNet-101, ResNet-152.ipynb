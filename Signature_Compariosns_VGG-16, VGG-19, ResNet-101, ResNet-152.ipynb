{
  "nbformat": 4,
  "nbformat_minor": 0,
  "metadata": {
    "colab": {
      "provenance": []
    },
    "kernelspec": {
      "name": "python3",
      "display_name": "Python 3"
    },
    "language_info": {
      "name": "python"
    }
  },
  "cells": [
    {
      "cell_type": "markdown",
      "source": [
        "### **Model : VGG-16 | Image : Non Binary**"
      ],
      "metadata": {
        "id": "YAqfrCVfyBPP"
      }
    },
    {
      "cell_type": "code",
      "source": [
        "import numpy as np\n",
        "from tensorflow.keras.applications import VGG16\n",
        "from tensorflow.keras.preprocessing import image as img_preprocess\n",
        "from tensorflow.keras.applications.vgg16 import preprocess_input\n",
        "from tensorflow.keras.models import Model\n",
        "from scipy.spatial.distance import cosine\n",
        "\n",
        "# Load the VGG-16 model pre-trained on ImageNet dataset\n",
        "base_model = VGG16(weights='imagenet', include_top=True)\n",
        "model = Model(inputs=base_model.input, outputs=base_model.get_layer('fc2').output)\n",
        "\n",
        "# Function to preprocess the images\n",
        "def preprocess_image(image_path):\n",
        "    img = img_preprocess.load_img(image_path, target_size=(224, 224))\n",
        "    img_array = img_preprocess.img_to_array(img)\n",
        "    img_array = np.expand_dims(img_array, axis=0)\n",
        "    img_array = preprocess_input(img_array)\n",
        "    return img_array\n",
        "\n",
        "# Function to calculate cosine similarity between two feature vectors\n",
        "def cosine_similarity(feature_vector1, feature_vector2):\n",
        "    return 1 - cosine(feature_vector1, feature_vector2)\n",
        "\n",
        "# Paths to the images you want to compare\n",
        "image_path1 = '/content/112 (1).jpg'\n",
        "image_path2 = '/content/avatar.jpg'\n",
        "\n",
        "# Preprocess the images\n",
        "image1 = preprocess_image(image_path1)\n",
        "image2 = preprocess_image(image_path2)\n",
        "\n",
        "# Get the feature representations of the images\n",
        "feature_vector1 = model.predict(image1).flatten()\n",
        "feature_vector2 = model.predict(image2).flatten()\n",
        "\n",
        "# Calculate cosine similarity between the feature vectors\n",
        "similarity_score = cosine_similarity(feature_vector1, feature_vector2)\n",
        "print(\"Cosine Similarity:\", similarity_score)\n"
      ],
      "metadata": {
        "colab": {
          "base_uri": "https://localhost:8080/"
        },
        "id": "xyAioaLcZkNT",
        "outputId": "658738c1-89a4-412c-b917-12f7aea81d4b"
      },
      "execution_count": 33,
      "outputs": [
        {
          "output_type": "stream",
          "name": "stdout",
          "text": [
            "1/1 [==============================] - 1s 766ms/step\n",
            "1/1 [==============================] - 1s 1s/step\n",
            "Cosine Similarity: 0.20877669751644135\n"
          ]
        }
      ]
    },
    {
      "cell_type": "markdown",
      "source": [
        "### **Model : ResNet-101 | Image : Non Binary**"
      ],
      "metadata": {
        "id": "Lyd7kEfNyKrb"
      }
    },
    {
      "cell_type": "code",
      "source": [
        "import numpy as np\n",
        "from tensorflow.keras.applications import ResNet101\n",
        "from tensorflow.keras.preprocessing import image as img_preprocess\n",
        "from tensorflow.keras.applications.resnet import preprocess_input\n",
        "from tensorflow.keras.models import Model\n",
        "from scipy.spatial.distance import cosine\n",
        "\n",
        "# Load the ResNet-101 model pre-trained on ImageNet dataset\n",
        "base_model = ResNet101(weights='imagenet', include_top=True)\n",
        "model = Model(inputs=base_model.input, outputs=base_model.get_layer('avg_pool').output)\n",
        "\n",
        "# Function to preprocess the images\n",
        "def preprocess_image(image_path):\n",
        "    img = img_preprocess.load_img(image_path, target_size=(224, 224))\n",
        "    img_array = img_preprocess.img_to_array(img)\n",
        "    img_array = np.expand_dims(img_array, axis=0)\n",
        "    img_array = preprocess_input(img_array)\n",
        "    return img_array\n",
        "\n",
        "# Function to calculate cosine similarity between two feature vectors\n",
        "def cosine_similarity(feature_vector1, feature_vector2):\n",
        "    return 1 - cosine(feature_vector1, feature_vector2)\n",
        "\n",
        "# Paths to the images you want to compare\n",
        "image_path1 = '/content/3.jpg'\n",
        "image_path2 = '/content/WhatsApp Image 2024-04-17 at 15.52.16_8a388c5a.jpg'\n",
        "\n",
        "# Preprocess the images\n",
        "image1 = preprocess_image(image_path1)\n",
        "image2 = preprocess_image(image_path2)\n",
        "\n",
        "# Get the feature representations of the images\n",
        "feature_vector1 = model.predict(image1).flatten()\n",
        "feature_vector2 = model.predict(image2).flatten()\n",
        "\n",
        "# Calculate cosine similarity between the feature vectors\n",
        "similarity_score = cosine_similarity(feature_vector1, feature_vector2)\n",
        "print(\"Cosine Similarity:\", similarity_score)\n"
      ],
      "metadata": {
        "colab": {
          "base_uri": "https://localhost:8080/"
        },
        "id": "hsGJQwvMbX5P",
        "outputId": "c0ddcf60-519f-46cd-a330-4615726a8d51"
      },
      "execution_count": 47,
      "outputs": [
        {
          "output_type": "stream",
          "name": "stdout",
          "text": [
            "1/1 [==============================] - 3s 3s/step\n",
            "1/1 [==============================] - 1s 605ms/step\n",
            "Cosine Similarity: 0.7315764427185059\n"
          ]
        }
      ]
    },
    {
      "cell_type": "markdown",
      "source": [
        "### **Model : ResNet-152 | Image : Non Binary**"
      ],
      "metadata": {
        "id": "OHIBVS6zyOfn"
      }
    },
    {
      "cell_type": "code",
      "source": [
        "import numpy as np\n",
        "from tensorflow.keras.applications import ResNet152\n",
        "from tensorflow.keras.preprocessing import image as img_preprocess\n",
        "from tensorflow.keras.applications.resnet import preprocess_input\n",
        "from tensorflow.keras.models import Model\n",
        "from scipy.spatial.distance import cosine\n",
        "\n",
        "# Load the ResNet-152 model pre-trained on ImageNet dataset\n",
        "base_model = ResNet152(weights='imagenet', include_top=True)\n",
        "model = Model(inputs=base_model.input, outputs=base_model.get_layer('avg_pool').output)\n",
        "\n",
        "# Function to preprocess the images\n",
        "def preprocess_image(image_path):\n",
        "    img = img_preprocess.load_img(image_path, target_size=(224, 224))\n",
        "    img_array = img_preprocess.img_to_array(img)\n",
        "    img_array = np.expand_dims(img_array, axis=0)\n",
        "    img_array = preprocess_input(img_array)\n",
        "    return img_array\n",
        "\n",
        "# Function to calculate cosine similarity between two feature vectors\n",
        "def cosine_similarity(feature_vector1, feature_vector2):\n",
        "    return 1 - cosine(feature_vector1, feature_vector2)\n",
        "\n",
        "# Paths to the images you want to compare\n",
        "image_path1 = '/content/112 (1).jpg'\n",
        "image_path2 = '/content/112 (2).jpg'\n",
        "\n",
        "# Preprocess the images\n",
        "image1 = preprocess_image(image_path1)\n",
        "image2 = preprocess_image(image_path2)\n",
        "\n",
        "# Get the feature representations of the images\n",
        "feature_vector1 = model.predict(image1).flatten()\n",
        "feature_vector2 = model.predict(image2).flatten()\n",
        "\n",
        "# Calculate cosine similarity between the feature vectors\n",
        "similarity_score = cosine_similarity(feature_vector1, feature_vector2)\n",
        "print(\"Cosine Similarity:\", similarity_score)\n"
      ],
      "metadata": {
        "colab": {
          "base_uri": "https://localhost:8080/"
        },
        "id": "RqXw_p1SbrSJ",
        "outputId": "b4095405-c78b-4a3f-babe-d68d0a199528"
      },
      "execution_count": 37,
      "outputs": [
        {
          "output_type": "stream",
          "name": "stdout",
          "text": [
            "1/1 [==============================] - 5s 5s/step\n",
            "1/1 [==============================] - 1s 517ms/step\n",
            "Cosine Similarity: 0.8394126296043396\n"
          ]
        }
      ]
    },
    {
      "cell_type": "markdown",
      "source": [
        "### **Model : ResNet-101 | Image : Binary**"
      ],
      "metadata": {
        "id": "6btUG9VOlIL3"
      }
    },
    {
      "cell_type": "code",
      "source": [
        "import numpy as np\n",
        "import cv2\n",
        "from tensorflow.keras.applications import ResNet101\n",
        "from tensorflow.keras.preprocessing import image as img_preprocess\n",
        "from tensorflow.keras.applications.resnet import preprocess_input\n",
        "from tensorflow.keras.models import Model\n",
        "from scipy.spatial.distance import cosine\n",
        "\n",
        "# Load the ResNet-101 model pre-trained on ImageNet dataset\n",
        "base_model = ResNet101(weights='imagenet', include_top=True)\n",
        "model = Model(inputs=base_model.input, outputs=base_model.get_layer('avg_pool').output)\n",
        "\n",
        "# Function to preprocess the images\n",
        "def preprocess_image(image_path):\n",
        "    # Load the binary image\n",
        "    binary_image = cv2.imread(image_path, cv2.IMREAD_GRAYSCALE)\n",
        "    # Convert binary image to RGB by replicating the single channel across 3 channels\n",
        "    rgb_image = cv2.cvtColor(binary_image, cv2.COLOR_GRAY2RGB)\n",
        "    # Resize to match ResNet-101 input size\n",
        "    rgb_image = cv2.resize(rgb_image, (224, 224))\n",
        "    # Convert to float32\n",
        "    img_array = np.array(rgb_image, dtype=np.float32)\n",
        "    # Add batch dimension\n",
        "    img_array = np.expand_dims(img_array, axis=0)\n",
        "    # Preprocess input as required by ResNet-101\n",
        "    img_array = preprocess_input(img_array)\n",
        "    return img_array\n",
        "\n",
        "# Function to calculate cosine similarity between two feature vectors\n",
        "def cosine_similarity(feature_vector1, feature_vector2):\n",
        "    return 1 - cosine(feature_vector1, feature_vector2)\n",
        "\n",
        "# Paths to the binary images you want to compare\n",
        "binary_image_path1 = '/content/f_m_s.jpg'\n",
        "binary_image_path2 = '/content/o_m.jpg'\n",
        "\n",
        "# Preprocess the binary images\n",
        "binary_image1 = preprocess_image(binary_image_path1)\n",
        "binary_image2 = preprocess_image(binary_image_path2)\n",
        "\n",
        "# Get the feature representations of the binary images\n",
        "feature_vector1 = model.predict(binary_image1).flatten()\n",
        "feature_vector2 = model.predict(binary_image2).flatten()\n",
        "\n",
        "# Calculate cosine similarity between the feature vectors\n",
        "similarity_score = cosine_similarity(feature_vector1, feature_vector2)\n",
        "print(\"Cosine Similarity:\", similarity_score)\n"
      ],
      "metadata": {
        "colab": {
          "base_uri": "https://localhost:8080/"
        },
        "id": "IlfRCBMqb4A0",
        "outputId": "7be8b4bc-bee2-4406-f182-9de0d136146e"
      },
      "execution_count": 109,
      "outputs": [
        {
          "output_type": "stream",
          "name": "stdout",
          "text": [
            "1/1 [==============================] - 3s 3s/step\n",
            "1/1 [==============================] - 0s 356ms/step\n",
            "Cosine Similarity: 0.8302993178367615\n"
          ]
        }
      ]
    },
    {
      "cell_type": "markdown",
      "source": [
        "### **Model : VGG-19_FC2 | Image : Binary**"
      ],
      "metadata": {
        "id": "FNqA9IHsyYYf"
      }
    },
    {
      "cell_type": "code",
      "source": [
        "import numpy as np\n",
        "import cv2\n",
        "from tensorflow.keras.applications import VGG19\n",
        "from tensorflow.keras.preprocessing import image as img_preprocess\n",
        "from tensorflow.keras.applications.vgg19 import preprocess_input\n",
        "from tensorflow.keras.models import Model\n",
        "from scipy.spatial.distance import cosine\n",
        "\n",
        "# Load the VGG-19 model pre-trained on ImageNet dataset\n",
        "base_model = VGG19(weights='imagenet', include_top=True)\n",
        "model = Model(inputs=base_model.input, outputs=base_model.get_layer('fc2').output)\n",
        "\n",
        "# Function to preprocess the images\n",
        "def preprocess_image(image_path):\n",
        "    # Load the binary image\n",
        "    binary_image = cv2.imread(image_path, cv2.IMREAD_GRAYSCALE)\n",
        "    # Convert binary image to RGB by replicating the single channel across 3 channels\n",
        "    rgb_image = cv2.cvtColor(binary_image, cv2.COLOR_GRAY2RGB)\n",
        "    # Resize to match VGG-19 input size\n",
        "    rgb_image = cv2.resize(rgb_image, (224, 224))\n",
        "    # Convert to float32\n",
        "    img_array = np.array(rgb_image, dtype=np.float32)\n",
        "    # Add batch dimension\n",
        "    img_array = np.expand_dims(img_array, axis=0)\n",
        "    # Preprocess input as required by VGG-19\n",
        "    img_array = preprocess_input(img_array)\n",
        "    return img_array\n",
        "\n",
        "# Function to calculate cosine similarity between two feature vectors\n",
        "def cosine_similarity(feature_vector1, feature_vector2):\n",
        "    return 1 - cosine(feature_vector1, feature_vector2)\n",
        "\n",
        "# Paths to the binary images you want to compare\n",
        "binary_image_path1 = '/content/f_m_s.jpg'\n",
        "binary_image_path2 = '/content/o_m.jpg'\n",
        "\n",
        "# Preprocess the binary images\n",
        "binary_image1 = preprocess_image(binary_image_path1)\n",
        "binary_image2 = preprocess_image(binary_image_path2)\n",
        "\n",
        "# Get the feature representations of the binary images\n",
        "feature_vector1 = model.predict(binary_image1).flatten()\n",
        "feature_vector2 = model.predict(binary_image2).flatten()\n",
        "\n",
        "# Calculate cosine similarity between the feature vectors\n",
        "similarity_score = cosine_similarity(feature_vector1, feature_vector2)\n",
        "print(\"Cosine Similarity:\", similarity_score)\n"
      ],
      "metadata": {
        "colab": {
          "base_uri": "https://localhost:8080/"
        },
        "id": "0SMzV1Lge2wp",
        "outputId": "450eafa9-aed5-4866-e4cb-7fcdb059a48a"
      },
      "execution_count": 110,
      "outputs": [
        {
          "output_type": "stream",
          "name": "stdout",
          "text": [
            "1/1 [==============================] - 1s 901ms/step\n",
            "1/1 [==============================] - 1s 736ms/step\n",
            "Cosine Similarity: 0.819294810295105\n"
          ]
        }
      ]
    },
    {
      "cell_type": "markdown",
      "source": [
        "### **Model : VGG-19 | Image : Non Binary**"
      ],
      "metadata": {
        "id": "jbEhpca-yb3W"
      }
    },
    {
      "cell_type": "code",
      "source": [
        "import cv2\n",
        "import numpy as np\n",
        "from keras.applications.vgg19 import VGG19, preprocess_input\n",
        "from keras.applications.resnet import ResNet101, preprocess_input\n",
        "from keras.preprocessing import image\n",
        "from scipy.spatial.distance import cosine\n",
        "\n",
        "# Load the ResNet-101 model pre-trained on ImageNet dataset\n",
        "base_model = VGG19(weights='imagenet', include_top=True)\n",
        "base_model = Model(inputs=base_model.input, outputs=base_model.output)\n",
        "\n",
        "# Function to preprocess and extract features from an image\n",
        "def extract_features(img_path):\n",
        "    # Load image and convert to RGB\n",
        "    img = cv2.imread(img_path)\n",
        "    img = cv2.cvtColor(img, cv2.COLOR_BGR2RGB)\n",
        "\n",
        "    # Correct orientation if rotated\n",
        "    if img.shape[1] > img.shape[0]:\n",
        "        img = cv2.rotate(img, cv2.ROTATE_90_CLOCKWISE)\n",
        "\n",
        "    # Resize image to fit model input size\n",
        "    img = cv2.resize(img, (224, 224))\n",
        "\n",
        "    # Preprocess input\n",
        "    x = image.img_to_array(img)\n",
        "    x = np.expand_dims(x, axis=0)\n",
        "    x = preprocess_input(x)\n",
        "\n",
        "    # Extract features using the base model\n",
        "    features = base_model.predict(x)\n",
        "\n",
        "    return features.flatten()\n",
        "\n",
        "# Function to calculate cosine similarity between two feature vectors\n",
        "def cosine_similarity(vec1, vec2):\n",
        "    return 1 - cosine(vec1, vec2)\n",
        "\n",
        "# Path to the two signature images (replace with your paths)\n",
        "signature_path1 = \"/content/f_m_s.jpg\"\n",
        "signature_path2 = \"/content/o_m.jpg\"\n",
        "\n",
        "# Extract features for each signature image\n",
        "signature_features1 = extract_features(signature_path1)\n",
        "signature_features2 = extract_features(signature_path2)\n",
        "\n",
        "# Compare signatures using cosine similarity\n",
        "similarity = cosine_similarity(signature_features1, signature_features2)\n",
        "print(f\"Similarity between:{similarity}\")"
      ],
      "metadata": {
        "colab": {
          "base_uri": "https://localhost:8080/"
        },
        "id": "V-nkZm-PgZli",
        "outputId": "6546f406-be6a-4e34-a1fc-361070ae6ced"
      },
      "execution_count": 111,
      "outputs": [
        {
          "output_type": "stream",
          "name": "stdout",
          "text": [
            "1/1 [==============================] - 1s 973ms/step\n",
            "1/1 [==============================] - 1s 727ms/step\n",
            "Similarity between:0.9717100262641907\n"
          ]
        }
      ]
    },
    {
      "cell_type": "markdown",
      "source": [
        "### **Model : VGG-19 | Image : Binary**"
      ],
      "metadata": {
        "id": "HAN_vPyzypYs"
      }
    },
    {
      "cell_type": "code",
      "source": [
        "import cv2\n",
        "import numpy as np\n",
        "from keras.applications.vgg19 import VGG19, preprocess_input\n",
        "from keras.preprocessing import image\n",
        "from scipy.spatial.distance import cosine\n",
        "\n",
        "# Load the VGG19 model pre-trained on ImageNet dataset\n",
        "base_model = VGG19(weights='imagenet', include_top=True)\n",
        "\n",
        "# Function to preprocess and extract features from an image\n",
        "def extract_features(img_path):\n",
        "    # Load image in grayscale\n",
        "    img = cv2.imread(img_path, cv2.IMREAD_GRAYSCALE)\n",
        "\n",
        "    # Resize image to fit model input size\n",
        "    img = cv2.resize(img, (224, 224))\n",
        "\n",
        "    # Convert grayscale image to RGB (3-channel)\n",
        "    img = cv2.cvtColor(img, cv2.COLOR_GRAY2RGB)\n",
        "\n",
        "    # Preprocess input\n",
        "    x = image.img_to_array(img)\n",
        "    x = np.expand_dims(x, axis=0)\n",
        "    x = preprocess_input(x)\n",
        "\n",
        "    # Extract features using the base model\n",
        "    features = base_model.predict(x)\n",
        "\n",
        "    return features.flatten()\n",
        "\n",
        "# Function to calculate cosine similarity between two feature vectors\n",
        "def cosine_similarity(vec1, vec2):\n",
        "    return 1 - cosine(vec1, vec2)\n",
        "\n",
        "# Path to the two signature images (replace with your paths)\n",
        "signature_path1 = \"/content/f_m_s.jpg\"\n",
        "signature_path2 = \"/content/o_m.jpg\"\n",
        "\n",
        "# Extract features for each signature image\n",
        "signature_features1 = extract_features(signature_path1)\n",
        "signature_features2 = extract_features(signature_path2)\n",
        "\n",
        "# Compare signatures using cosine similarity\n",
        "similarity = cosine_similarity(signature_features1, signature_features2)\n",
        "print(f\"Similarity between signatures: {similarity}\")\n"
      ],
      "metadata": {
        "colab": {
          "base_uri": "https://localhost:8080/"
        },
        "id": "QIKVmD-AhHFd",
        "outputId": "c9672de0-055a-400c-c0ca-427b9e37d17a"
      },
      "execution_count": 112,
      "outputs": [
        {
          "output_type": "stream",
          "name": "stdout",
          "text": [
            "1/1 [==============================] - 1s 1s/step\n",
            "1/1 [==============================] - 1s 1s/step\n",
            "Similarity between signatures: 0.8365846872329712\n"
          ]
        }
      ]
    },
    {
      "cell_type": "markdown",
      "source": [
        "### **Best Model - ResNet-101 | Image : Binary**"
      ],
      "metadata": {
        "id": "MOPr6OD0oE-A"
      }
    },
    {
      "cell_type": "code",
      "source": [
        "import numpy as np\n",
        "import cv2\n",
        "from tensorflow.keras.applications import ResNet101\n",
        "from tensorflow.keras.preprocessing import image as img_preprocess\n",
        "from tensorflow.keras.applications.resnet import preprocess_input\n",
        "from tensorflow.keras.models import Model\n",
        "from scipy.spatial.distance import cosine\n",
        "\n",
        "base_model = ResNet101(weights='imagenet', include_top=True)\n",
        "model = Model(inputs=base_model.input, outputs=base_model.get_layer('avg_pool').output)\n",
        "\n",
        "def preprocess_image(image_path):\n",
        "    binary_image = cv2.imread(image_path, cv2.IMREAD_GRAYSCALE)\n",
        "    rgb_image = cv2.cvtColor(binary_image, cv2.COLOR_GRAY2RGB)\n",
        "    rgb_image = cv2.resize(rgb_image, (224, 224))\n",
        "    img_array = np.array(rgb_image, dtype=np.float32)\n",
        "    img_array = np.expand_dims(img_array, axis=0)\n",
        "    img_array = preprocess_input(img_array)\n",
        "\n",
        "    return img_array\n",
        "\n",
        "def cosine_similarity(feature_vector1, feature_vector2):\n",
        "    return 1 - cosine(feature_vector1, feature_vector2)\n",
        "\n",
        "def findSignatureSimilarity(img1, img2, threshold):\n",
        "  binary_image1 = preprocess_image(binary_image_path1)\n",
        "  binary_image2 = preprocess_image(binary_image_path2)\n",
        "\n",
        "  feature_vector1 = model.predict(binary_image1).flatten()\n",
        "  feature_vector2 = model.predict(binary_image2).flatten()\n",
        "\n",
        "  similarity_score = cosine_similarity(feature_vector1, feature_vector2)\n",
        "  if similarity_score >= threshold:\n",
        "    return \"Matched\"\n",
        "  else:\n",
        "    return \"Unmatched\"\n",
        ""
      ],
      "metadata": {
        "id": "E8St5WZuoHYf"
      },
      "execution_count": 116,
      "outputs": []
    },
    {
      "cell_type": "code",
      "source": [
        "import tensorflow as tf\n",
        "import cv2\n",
        "import numpy as np\n",
        "import scipy\n",
        "print(tf.__version__)\n",
        "print(cv2.__version__)\n",
        "print(np.__version__)\n",
        "print(scipy.__version__)"
      ],
      "metadata": {
        "colab": {
          "base_uri": "https://localhost:8080/"
        },
        "id": "DTqovRw2o_mT",
        "outputId": "1525dd9c-6cba-4591-8591-e4154145589b"
      },
      "execution_count": 120,
      "outputs": [
        {
          "output_type": "stream",
          "name": "stdout",
          "text": [
            "2.15.0\n",
            "4.8.0\n",
            "1.25.2\n",
            "1.11.4\n"
          ]
        }
      ]
    },
    {
      "cell_type": "code",
      "source": [
        "### Python 3.10.12\n",
        "\n",
        "import numpy as np\n",
        "import cv2\n",
        "import tensorflow as tf\n",
        "from tensorflow.keras.applications import ResNet101\n",
        "from tensorflow.keras.preprocessing import image as img_preprocess\n",
        "from tensorflow.keras.applications.resnet import preprocess_input\n",
        "from tensorflow.keras.models import Model\n",
        "from scipy.spatial.distance import cosine\n",
        "\n",
        "physical_devices = tf.config.list_physical_devices('GPU')\n",
        "if physical_devices:\n",
        "    tf.config.experimental.set_memory_growth(physical_devices[0], True)\n",
        "else:\n",
        "    pass\n",
        "\n",
        "base_model = ResNet101(weights='imagenet', include_top=True)\n",
        "model = Model(inputs=base_model.input, outputs=base_model.get_layer('avg_pool').output)\n",
        "\n",
        "def preprocess_image(image_path):\n",
        "    binary_image = cv2.imread(image_path, cv2.IMREAD_GRAYSCALE)\n",
        "    rgb_image = cv2.cvtColor(binary_image, cv2.COLOR_GRAY2RGB)\n",
        "    rgb_image = cv2.resize(rgb_image, (224, 224))\n",
        "    img_array = np.array(rgb_image, dtype=np.float32)\n",
        "    img_array = np.expand_dims(img_array, axis=0)\n",
        "    img_array = preprocess_input(img_array)\n",
        "\n",
        "    return img_array\n",
        "\n",
        "def cosine_similarity(feature_vector1, feature_vector2):\n",
        "    return 1 - cosine(feature_vector1, feature_vector2)\n",
        "\n",
        "def findSignatureSimilarity(binary_image_path1, binary_image_path2, threshold):\n",
        "    binary_image1 = preprocess_image(binary_image_path1)\n",
        "    binary_image2 = preprocess_image(binary_image_path2)\n",
        "\n",
        "    feature_vector1 = model.predict(binary_image1).flatten()\n",
        "    feature_vector2 = model.predict(binary_image2).flatten()\n",
        "\n",
        "    similarity_score = cosine_similarity(feature_vector1, feature_vector2)\n",
        "    if similarity_score >= threshold:\n",
        "        return \"Matched\"\n",
        "    else:\n",
        "        return \"Unmatched\"\n",
        "\n",
        "\n",
        "image_path1 = \"/content/m1.jpg\"\n",
        "image_path2 = \"/content/m2.jpg\"\n",
        "threshold = 0.8\n",
        "result = findSignatureSimilarity(image_path1, image_path2, threshold)\n",
        "print(result)\n"
      ],
      "metadata": {
        "colab": {
          "base_uri": "https://localhost:8080/"
        },
        "id": "ASjBs9qiqEB_",
        "outputId": "b2a8cfd6-42e3-433b-d174-529e3399473d"
      },
      "execution_count": 123,
      "outputs": [
        {
          "output_type": "stream",
          "name": "stdout",
          "text": [
            "1/1 [==============================] - 3s 3s/step\n",
            "1/1 [==============================] - 0s 370ms/step\n",
            "Matched\n"
          ]
        }
      ]
    },
    {
      "cell_type": "code",
      "source": [
        "!python --version"
      ],
      "metadata": {
        "colab": {
          "base_uri": "https://localhost:8080/"
        },
        "id": "x0ez-fjfqH3z",
        "outputId": "e822ea6e-e5c2-43d8-b6ec-06e5eac494c5"
      },
      "execution_count": 121,
      "outputs": [
        {
          "output_type": "stream",
          "name": "stdout",
          "text": [
            "Python 3.10.12\n"
          ]
        }
      ]
    }
  ]
}